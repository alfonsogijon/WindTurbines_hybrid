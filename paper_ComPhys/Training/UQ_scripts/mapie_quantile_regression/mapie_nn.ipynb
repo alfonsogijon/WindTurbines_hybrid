{
 "cells": [
  {
   "cell_type": "code",
   "execution_count": 1,
   "metadata": {},
   "outputs": [
    {
     "name": "stderr",
     "output_type": "stream",
     "text": [
      "2024-11-19 11:18:58.152873: I tensorflow/core/util/port.cc:110] oneDNN custom operations are on. You may see slightly different numerical results due to floating-point round-off errors from different computation orders. To turn them off, set the environment variable `TF_ENABLE_ONEDNN_OPTS=0`.\n",
      "2024-11-19 11:18:58.315533: I tensorflow/core/platform/cpu_feature_guard.cc:182] This TensorFlow binary is optimized to use available CPU instructions in performance-critical operations.\n",
      "To enable the following instructions: AVX2 AVX512F AVX512_VNNI FMA, in other operations, rebuild TensorFlow with the appropriate compiler flags.\n",
      "2024-11-19 11:18:58.924805: W tensorflow/compiler/tf2tensorrt/utils/py_utils.cc:38] TF-TRT Warning: Could not find TensorRT\n"
     ]
    }
   ],
   "source": [
    "import pandas as pd\n",
    "\n",
    "from tensorflow.keras.layers import Dense\n",
    "from tensorflow.keras.models import Sequential, load_model\n",
    "from tensorflow.keras.optimizers import Adam\n",
    "\n",
    "from sklearn.base import BaseEstimator, RegressorMixin\n",
    "from sklearn.model_selection import train_test_split\n",
    "from sklearn.datasets import fetch_california_housing\n",
    "from sklearn.preprocessing import StandardScaler\n",
    "\n",
    "from mapie.regression import MapieQuantileRegressor"
   ]
  },
  {
   "cell_type": "markdown",
   "metadata": {},
   "source": [
    "# **Prepare data**\n",
    "\n",
    "Load, preprocess and split data into train, test and calibration sets:"
   ]
  },
  {
   "cell_type": "code",
   "execution_count": 2,
   "metadata": {},
   "outputs": [
    {
     "name": "stdout",
     "output_type": "stream",
     "text": [
      "Train:  14448\n",
      "Test:  3096\n",
      "Calibration:  3096\n"
     ]
    }
   ],
   "source": [
    "data = fetch_california_housing()\n",
    "X, y = data.data, data.target\n",
    "\n",
    "scaler = StandardScaler()\n",
    "X = scaler.fit_transform(X)\n",
    "\n",
    "X_train, X_test_cal, y_train, y_test_cal = train_test_split(X, y, test_size=0.3, random_state=42)\n",
    "X_test, X_cal, y_test, y_cal = train_test_split(X_test_cal, y_test_cal, test_size=0.5, random_state=42)\n",
    "\n",
    "print('Train: ', len(X_train))\n",
    "print('Test: ', len(X_test))\n",
    "print('Calibration: ', len(X_cal))"
   ]
  },
  {
   "cell_type": "markdown",
   "metadata": {},
   "source": [
    "# **Train and save model**\n",
    "\n",
    "Create, train and save Keras model:"
   ]
  },
  {
   "cell_type": "code",
   "execution_count": 3,
   "metadata": {},
   "outputs": [
    {
     "name": "stderr",
     "output_type": "stream",
     "text": [
      "2024-11-19 11:19:08.075230: E tensorflow/compiler/xla/stream_executor/cuda/cuda_driver.cc:266] failed call to cuInit: CUDA_ERROR_NO_DEVICE: no CUDA-capable device is detected\n"
     ]
    }
   ],
   "source": [
    "nn_model = Sequential([\n",
    "    Dense(64, activation='relu', input_shape=(X_train.shape[1],)),\n",
    "    Dense(32, activation='relu'),\n",
    "    Dense(1)\n",
    "])\n",
    "\n",
    "nn_model.compile(optimizer=Adam(learning_rate=0.001), loss='mse')\n",
    "\n",
    "nn_model.fit(X_train, y_train, epochs=20, batch_size=32,\n",
    "             validation_split=0.2, verbose=0)\n",
    "\n",
    "nn_model.save('model.keras')"
   ]
  },
  {
   "cell_type": "markdown",
   "metadata": {},
   "source": [
    "# **MAPIE**\n",
    "\n",
    "Load and wrap the model for `sklearn` compatibility (the wrapper assumes the model is already trained):"
   ]
  },
  {
   "cell_type": "code",
   "execution_count": 4,
   "metadata": {},
   "outputs": [],
   "source": [
    "class TrainedKerasRegressorWrapper(BaseEstimator, RegressorMixin):\n",
    "    def __init__(self, model):\n",
    "        self.model = model\n",
    "\n",
    "    def fit(self, X, y):\n",
    "        return self\n",
    "\n",
    "    def predict(self, X):\n",
    "        return self.model.predict(X).flatten()\n",
    "\n",
    "    def __sklearn_is_fitted__(self):\n",
    "        return True\n",
    "\n",
    "\n",
    "loaded_model = load_model('model.keras')\n",
    "\n",
    "model = TrainedKerasRegressorWrapper(loaded_model)"
   ]
  },
  {
   "cell_type": "markdown",
   "metadata": {},
   "source": [
    "MAPIE quantile regression:"
   ]
  },
  {
   "cell_type": "code",
   "execution_count": 5,
   "metadata": {},
   "outputs": [],
   "source": [
    "model_list = [model, model, model]"
   ]
  },
  {
   "cell_type": "code",
   "execution_count": 6,
   "metadata": {},
   "outputs": [
    {
     "name": "stdout",
     "output_type": "stream",
     "text": [
      "97/97 [==============================] - 0s 374us/step\n",
      "97/97 [==============================] - 0s 364us/step\n"
     ]
    },
    {
     "name": "stderr",
     "output_type": "stream",
     "text": [
      "/home/alfonso/Work/UGR/Calculations/WindTurbines_hybrid/WT_hybrid_venv/lib/python3.10/site-packages/mapie/regression/quantile_regression.py:201: UserWarning: WARNING: The alpha that is set needs to be the same as the alpha of your prefitted model in the following order [alpha/2, 1 - alpha/2, 0.5]\n",
      "  warnings.warn(\n"
     ]
    },
    {
     "name": "stdout",
     "output_type": "stream",
     "text": [
      "97/97 [==============================] - 0s 331us/step\n",
      "97/97 [==============================] - 0s 336us/step\n",
      "97/97 [==============================] - 0s 342us/step\n",
      "97/97 [==============================] - 0s 341us/step\n"
     ]
    },
    {
     "data": {
      "text/html": [
       "<div>\n",
       "<style scoped>\n",
       "    .dataframe tbody tr th:only-of-type {\n",
       "        vertical-align: middle;\n",
       "    }\n",
       "\n",
       "    .dataframe tbody tr th {\n",
       "        vertical-align: top;\n",
       "    }\n",
       "\n",
       "    .dataframe thead th {\n",
       "        text-align: right;\n",
       "    }\n",
       "</style>\n",
       "<table border=\"1\" class=\"dataframe\">\n",
       "  <thead>\n",
       "    <tr style=\"text-align: right;\">\n",
       "      <th></th>\n",
       "      <th>Prediction</th>\n",
       "      <th>Lower Interval</th>\n",
       "      <th>Upper Interval</th>\n",
       "      <th>Amplitude</th>\n",
       "      <th>Actual Value</th>\n",
       "    </tr>\n",
       "  </thead>\n",
       "  <tbody>\n",
       "    <tr>\n",
       "      <th>0</th>\n",
       "      <td>1.298620</td>\n",
       "      <td>0.450377</td>\n",
       "      <td>2.146864</td>\n",
       "      <td>1.696487</td>\n",
       "      <td>1.225</td>\n",
       "    </tr>\n",
       "    <tr>\n",
       "      <th>1</th>\n",
       "      <td>3.612658</td>\n",
       "      <td>2.764414</td>\n",
       "      <td>4.460901</td>\n",
       "      <td>1.696487</td>\n",
       "      <td>3.204</td>\n",
       "    </tr>\n",
       "    <tr>\n",
       "      <th>2</th>\n",
       "      <td>4.489323</td>\n",
       "      <td>3.641079</td>\n",
       "      <td>5.337566</td>\n",
       "      <td>1.696487</td>\n",
       "      <td>4.507</td>\n",
       "    </tr>\n",
       "    <tr>\n",
       "      <th>3</th>\n",
       "      <td>2.928106</td>\n",
       "      <td>2.079862</td>\n",
       "      <td>3.776349</td>\n",
       "      <td>1.696487</td>\n",
       "      <td>2.343</td>\n",
       "    </tr>\n",
       "    <tr>\n",
       "      <th>4</th>\n",
       "      <td>1.613712</td>\n",
       "      <td>0.765468</td>\n",
       "      <td>2.461955</td>\n",
       "      <td>1.696487</td>\n",
       "      <td>1.019</td>\n",
       "    </tr>\n",
       "  </tbody>\n",
       "</table>\n",
       "</div>"
      ],
      "text/plain": [
       "   Prediction  Lower Interval  Upper Interval  Amplitude  Actual Value\n",
       "0    1.298620        0.450377        2.146864   1.696487         1.225\n",
       "1    3.612658        2.764414        4.460901   1.696487         3.204\n",
       "2    4.489323        3.641079        5.337566   1.696487         4.507\n",
       "3    2.928106        2.079862        3.776349   1.696487         2.343\n",
       "4    1.613712        0.765468        2.461955   1.696487         1.019"
      ]
     },
     "execution_count": 6,
     "metadata": {},
     "output_type": "execute_result"
    }
   ],
   "source": [
    "mapie_regressor = MapieQuantileRegressor(\n",
    "    estimator=model_list, cv='prefit')\n",
    "\n",
    "mapie_regressor.fit(X_cal, y_cal)\n",
    "\n",
    "predictions, intervals = mapie_regressor.predict(X_test)\n",
    "\n",
    "lower_intervals = intervals[:, 0]\n",
    "upper_intervals = intervals[:, 1]\n",
    "\n",
    "results = pd.DataFrame({\n",
    "    'Prediction': predictions.flatten(),\n",
    "    'Lower Interval': lower_intervals.flatten(),\n",
    "    'Upper Interval': upper_intervals.flatten(),\n",
    "    'Amplitude': upper_intervals.flatten() - lower_intervals.flatten(),\n",
    "    'Actual Value': y_test\n",
    "})\n",
    "\n",
    "results.head()"
   ]
  },
  {
   "cell_type": "markdown",
   "metadata": {},
   "source": [
    "**`estimator` tiene que ser una lista de 3 modelos**\n",
    "\n",
    "```\n",
    "    estimators_: List[RegressorMixin]\n",
    "        - [0]: Estimator with quantile value of alpha/2\n",
    "        - [1]: Estimator with quantile value of 1 - alpha/2\n",
    "        - [2]: Estimator with quantile value of 0.5\n",
    "```\n",
    "\n",
    "Ver:\n",
    "\n",
    "- https://github.com/scikit-learn-contrib/MAPIE/issues/448\n",
    "- https://mapie.readthedocs.io/en/stable/generated/mapie.regression.MapieQuantileRegressor.html#mapie-regression-mapiequantileregressor"
   ]
  }
 ],
 "metadata": {
  "kernelspec": {
   "display_name": "WT_hybrid_venv",
   "language": "python",
   "name": "python3"
  },
  "language_info": {
   "codemirror_mode": {
    "name": "ipython",
    "version": 3
   },
   "file_extension": ".py",
   "mimetype": "text/x-python",
   "name": "python",
   "nbconvert_exporter": "python",
   "pygments_lexer": "ipython3",
   "version": "3.10.12"
  }
 },
 "nbformat": 4,
 "nbformat_minor": 2
}
